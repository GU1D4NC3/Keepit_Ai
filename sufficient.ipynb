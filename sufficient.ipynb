{
 "cells": [
  {
   "cell_type": "code",
   "execution_count": null,
   "metadata": {},
   "outputs": [],
   "source": [
    "'''가진통, 진진통\n",
    "초산의 경우, 진통의 간격이 5분이 되면 병원에 방문해야함\n",
    "처음 5분 간격은 가진통의 5분이지 진진통의 5분 간격이 아님\n",
    "\n",
    "가진통 - 지속시간이 30~40초에다가 진통의 강도가 강하지 않음\n",
    "진진통 - 지속시간이 1분 가까이 되고, 강도도 1~10으로 측정했을 때 최소 5이상임\n",
    "\n",
    "진통을 하는 와중에 말이 끊기거나 비슷한 진통이 2시간 이상 지속된다면 가장 확실함'''"
   ]
  },
  {
   "cell_type": "code",
   "execution_count": 2,
   "metadata": {},
   "outputs": [],
   "source": [
    "import time\n",
    "\n",
    "def measure_contraction():\n",
    "    contractions = []\n",
    "    while True:\n",
    "        input(\"진통이 시작되면 엔터를 눌러주세요.\")\n",
    "        start = time.time()\n",
    "        input(\"진통이 끝나면 엔터를 눌러주세요.\")\n",
    "        end = time.time()\n",
    "        duration = end - start\n",
    "        intensity = int(input(\"진통의 강도를 1~10까지의 숫자로 평가해주세요.\"))\n",
    "        contractions.append((start, duration, intensity))\n",
    "        print(f\"이번 진통은 {duration}초 걸렸으며, 진통의 강도는 {intensity}입니다.\")\n",
    "\n",
    "        if len(contractions) > 1:\n",
    "            interval = contractions[-1][0] - contractions[-2][0]\n",
    "            print(f\"이전 진통과의 간격은 {interval}초입니다.\")\n",
    "            \n",
    "            if interval <= 300 and duration >= 50 and intensity >= 5:\n",
    "                print(\"진진통으로 판단됩니다. 병원에 가보는 것을 권장합니다.\")\n",
    "            elif interval <= 300 and duration < 50:\n",
    "                print(\"진진통으로 의심됩니다.\")\n",
    "            else:\n",
    "                print(\"아직 가진통의 단계로 보입니다.\")"
   ]
  },
  {
   "cell_type": "code",
   "execution_count": null,
   "metadata": {},
   "outputs": [],
   "source": [
    "'''위 코드는 진통의 강도를 사용자로부터 입력받아, 그 정보를 바탕으로 진진통과 가진통을 구분합니다.\n",
    "강도가 5 이상이고, 간격이 5분 이내, 지속시간이 50초 이상일 경우, 그 진통을 진진통으로 판단하고 병원에 가는 것을 권장하며,\n",
    "간격이 5분 이내이지만 지속시간이 50초 미만일 경우는 진진통으로 의심됩니다. 그 외의 경우는 가진통으로 판단합니다.'''"
   ]
  },
  {
   "cell_type": "code",
   "execution_count": 3,
   "metadata": {},
   "outputs": [
    {
     "name": "stdout",
     "output_type": "stream",
     "text": [
      "이번 진통은 12.328026056289673초 걸렸으며, 진통의 강도는 3입니다.\n",
      "이번 진통은 0.2694242000579834초 걸렸으며, 진통의 강도는 2입니다.\n",
      "이전 진통과의 간격은 21.366820096969604초입니다.\n",
      "진진통으로 의심됩니다.\n"
     ]
    },
    {
     "ename": "ValueError",
     "evalue": "invalid literal for int() with base 10: ''",
     "output_type": "error",
     "traceback": [
      "\u001b[1;31m---------------------------------------------------------------------------\u001b[0m",
      "\u001b[1;31mValueError\u001b[0m                                Traceback (most recent call last)",
      "Cell \u001b[1;32mIn[3], line 1\u001b[0m\n\u001b[1;32m----> 1\u001b[0m \u001b[43mmeasure_contraction\u001b[49m\u001b[43m(\u001b[49m\u001b[43m)\u001b[49m\n",
      "Cell \u001b[1;32mIn[2], line 11\u001b[0m, in \u001b[0;36mmeasure_contraction\u001b[1;34m()\u001b[0m\n\u001b[0;32m      9\u001b[0m end \u001b[38;5;241m=\u001b[39m time\u001b[38;5;241m.\u001b[39mtime()\n\u001b[0;32m     10\u001b[0m duration \u001b[38;5;241m=\u001b[39m end \u001b[38;5;241m-\u001b[39m start\n\u001b[1;32m---> 11\u001b[0m intensity \u001b[38;5;241m=\u001b[39m \u001b[38;5;28;43mint\u001b[39;49m\u001b[43m(\u001b[49m\u001b[38;5;28;43minput\u001b[39;49m\u001b[43m(\u001b[49m\u001b[38;5;124;43m\"\u001b[39;49m\u001b[38;5;124;43m진통의 강도를 1~10까지의 숫자로 평가해주세요.\u001b[39;49m\u001b[38;5;124;43m\"\u001b[39;49m\u001b[43m)\u001b[49m\u001b[43m)\u001b[49m\n\u001b[0;32m     12\u001b[0m contractions\u001b[38;5;241m.\u001b[39mappend((start, duration, intensity))\n\u001b[0;32m     13\u001b[0m \u001b[38;5;28mprint\u001b[39m(\u001b[38;5;124mf\u001b[39m\u001b[38;5;124m\"\u001b[39m\u001b[38;5;124m이번 진통은 \u001b[39m\u001b[38;5;132;01m{\u001b[39;00mduration\u001b[38;5;132;01m}\u001b[39;00m\u001b[38;5;124m초 걸렸으며, 진통의 강도는 \u001b[39m\u001b[38;5;132;01m{\u001b[39;00mintensity\u001b[38;5;132;01m}\u001b[39;00m\u001b[38;5;124m입니다.\u001b[39m\u001b[38;5;124m\"\u001b[39m)\n",
      "\u001b[1;31mValueError\u001b[0m: invalid literal for int() with base 10: ''"
     ]
    }
   ],
   "source": [
    "measure_contraction()"
   ]
  }
 ],
 "metadata": {
  "kernelspec": {
   "display_name": "solyolo",
   "language": "python",
   "name": "python3"
  },
  "language_info": {
   "codemirror_mode": {
    "name": "ipython",
    "version": 3
   },
   "file_extension": ".py",
   "mimetype": "text/x-python",
   "name": "python",
   "nbconvert_exporter": "python",
   "pygments_lexer": "ipython3",
   "version": "3.8.18"
  }
 },
 "nbformat": 4,
 "nbformat_minor": 2
}
